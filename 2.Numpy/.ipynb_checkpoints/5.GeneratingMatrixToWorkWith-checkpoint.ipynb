{
 "cells": [
  {
   "cell_type": "code",
   "execution_count": 1,
   "metadata": {
    "collapsed": true
   },
   "outputs": [],
   "source": [
    "import numpy as np"
   ]
  },
  {
   "cell_type": "code",
   "execution_count": 2,
   "metadata": {
    "collapsed": false
   },
   "outputs": [
    {
     "data": {
      "text/plain": [
       "array([1, 2, 3])"
      ]
     },
     "execution_count": 2,
     "metadata": {},
     "output_type": "execute_result"
    }
   ],
   "source": [
    "np.array([1,2,3])"
   ]
  },
  {
   "cell_type": "code",
   "execution_count": 4,
   "metadata": {
    "collapsed": false
   },
   "outputs": [],
   "source": [
    "Z = np.zeros(10)"
   ]
  },
  {
   "cell_type": "code",
   "execution_count": 5,
   "metadata": {
    "collapsed": false
   },
   "outputs": [
    {
     "data": {
      "text/plain": [
       "array([ 0.,  0.,  0.,  0.,  0.,  0.,  0.,  0.,  0.,  0.])"
      ]
     },
     "execution_count": 5,
     "metadata": {},
     "output_type": "execute_result"
    }
   ],
   "source": [
    "Z"
   ]
  },
  {
   "cell_type": "code",
   "execution_count": 6,
   "metadata": {
    "collapsed": true
   },
   "outputs": [],
   "source": [
    "Z = np.zeros((10,10))"
   ]
  },
  {
   "cell_type": "code",
   "execution_count": 7,
   "metadata": {
    "collapsed": false
   },
   "outputs": [
    {
     "data": {
      "text/plain": [
       "array([[ 0.,  0.,  0.,  0.,  0.,  0.,  0.,  0.,  0.,  0.],\n",
       "       [ 0.,  0.,  0.,  0.,  0.,  0.,  0.,  0.,  0.,  0.],\n",
       "       [ 0.,  0.,  0.,  0.,  0.,  0.,  0.,  0.,  0.,  0.],\n",
       "       [ 0.,  0.,  0.,  0.,  0.,  0.,  0.,  0.,  0.,  0.],\n",
       "       [ 0.,  0.,  0.,  0.,  0.,  0.,  0.,  0.,  0.,  0.],\n",
       "       [ 0.,  0.,  0.,  0.,  0.,  0.,  0.,  0.,  0.,  0.],\n",
       "       [ 0.,  0.,  0.,  0.,  0.,  0.,  0.,  0.,  0.,  0.],\n",
       "       [ 0.,  0.,  0.,  0.,  0.,  0.,  0.,  0.,  0.,  0.],\n",
       "       [ 0.,  0.,  0.,  0.,  0.,  0.,  0.,  0.,  0.,  0.],\n",
       "       [ 0.,  0.,  0.,  0.,  0.,  0.,  0.,  0.,  0.,  0.]])"
      ]
     },
     "execution_count": 7,
     "metadata": {},
     "output_type": "execute_result"
    }
   ],
   "source": [
    "Z"
   ]
  },
  {
   "cell_type": "code",
   "execution_count": 9,
   "metadata": {
    "collapsed": false
   },
   "outputs": [],
   "source": [
    "O = np.ones((10,10))"
   ]
  },
  {
   "cell_type": "code",
   "execution_count": 10,
   "metadata": {
    "collapsed": false,
    "scrolled": true
   },
   "outputs": [
    {
     "data": {
      "text/plain": [
       "array([[ 1.,  1.,  1.,  1.,  1.,  1.,  1.,  1.,  1.,  1.],\n",
       "       [ 1.,  1.,  1.,  1.,  1.,  1.,  1.,  1.,  1.,  1.],\n",
       "       [ 1.,  1.,  1.,  1.,  1.,  1.,  1.,  1.,  1.,  1.],\n",
       "       [ 1.,  1.,  1.,  1.,  1.,  1.,  1.,  1.,  1.,  1.],\n",
       "       [ 1.,  1.,  1.,  1.,  1.,  1.,  1.,  1.,  1.,  1.],\n",
       "       [ 1.,  1.,  1.,  1.,  1.,  1.,  1.,  1.,  1.,  1.],\n",
       "       [ 1.,  1.,  1.,  1.,  1.,  1.,  1.,  1.,  1.,  1.],\n",
       "       [ 1.,  1.,  1.,  1.,  1.,  1.,  1.,  1.,  1.,  1.],\n",
       "       [ 1.,  1.,  1.,  1.,  1.,  1.,  1.,  1.,  1.,  1.],\n",
       "       [ 1.,  1.,  1.,  1.,  1.,  1.,  1.,  1.,  1.,  1.]])"
      ]
     },
     "execution_count": 10,
     "metadata": {},
     "output_type": "execute_result"
    }
   ],
   "source": [
    "O"
   ]
  },
  {
   "cell_type": "code",
   "execution_count": 11,
   "metadata": {
    "collapsed": true
   },
   "outputs": [],
   "source": [
    "R = np.random.random((10,10))"
   ]
  },
  {
   "cell_type": "code",
   "execution_count": 12,
   "metadata": {
    "collapsed": false
   },
   "outputs": [
    {
     "data": {
      "text/plain": [
       "array([[ 0.88458674,  0.38898385,  0.85068819,  0.94082404,  0.29592147,\n",
       "         0.72051842,  0.75200724,  0.25984376,  0.44693138,  0.67955625],\n",
       "       [ 0.91277359,  0.42385991,  0.4172267 ,  0.57017154,  0.14819766,\n",
       "         0.34996568,  0.53616342,  0.50960747,  0.00733803,  0.85369249],\n",
       "       [ 0.0473709 ,  0.30503726,  0.48059553,  0.91411517,  0.67789429,\n",
       "         0.57361472,  0.95076878,  0.90462847,  0.19811322,  0.9138098 ],\n",
       "       [ 0.55619347,  0.83521394,  0.74574431,  0.09544779,  0.11266284,\n",
       "         0.44525488,  0.32956644,  0.14029809,  0.21583707,  0.74411645],\n",
       "       [ 0.76587531,  0.42719633,  0.47491399,  0.93677985,  0.80209975,\n",
       "         0.26903882,  0.08748741,  0.62465173,  0.18683943,  0.77939344],\n",
       "       [ 0.29594271,  0.54136274,  0.58090436,  0.9395599 ,  0.21551661,\n",
       "         0.73890208,  0.68491902,  0.54341238,  0.86179506,  0.67247146],\n",
       "       [ 0.51675868,  0.33345409,  0.23371712,  0.08471329,  0.54654352,\n",
       "         0.70867733,  0.82730067,  0.2991489 ,  0.89348667,  0.88646661],\n",
       "       [ 0.01192165,  0.4884675 ,  0.71835119,  0.42903313,  0.25423582,\n",
       "         0.63118945,  0.7658078 ,  0.01550999,  0.64946427,  0.25158073],\n",
       "       [ 0.36568507,  0.67703965,  0.90639773,  0.89552792,  0.82140606,\n",
       "         0.413529  ,  0.91746048,  0.16359591,  0.99526726,  0.09450668],\n",
       "       [ 0.95629004,  0.98622162,  0.81408704,  0.30031767,  0.90098409,\n",
       "         0.57947856,  0.66200289,  0.09610163,  0.92087402,  0.60695633]])"
      ]
     },
     "execution_count": 12,
     "metadata": {},
     "output_type": "execute_result"
    }
   ],
   "source": [
    "R"
   ]
  },
  {
   "cell_type": "code",
   "execution_count": 13,
   "metadata": {
    "collapsed": false
   },
   "outputs": [
    {
     "ename": "TypeError",
     "evalue": "an integer is required",
     "output_type": "error",
     "traceback": [
      "\u001b[1;31m---------------------------------------------------------------------------\u001b[0m",
      "\u001b[1;31mTypeError\u001b[0m                                 Traceback (most recent call last)",
      "\u001b[1;32m<ipython-input-13-915821a22c78>\u001b[0m in \u001b[0;36m<module>\u001b[1;34m()\u001b[0m\n\u001b[1;32m----> 1\u001b[1;33m \u001b[0mG\u001b[0m \u001b[1;33m=\u001b[0m \u001b[0mnp\u001b[0m\u001b[1;33m.\u001b[0m\u001b[0mrandom\u001b[0m\u001b[1;33m.\u001b[0m\u001b[0mrandn\u001b[0m\u001b[1;33m(\u001b[0m\u001b[1;33m(\u001b[0m\u001b[1;36m10\u001b[0m\u001b[1;33m,\u001b[0m\u001b[1;36m10\u001b[0m\u001b[1;33m)\u001b[0m\u001b[1;33m)\u001b[0m\u001b[1;33m\u001b[0m\u001b[0m\n\u001b[0m",
      "\u001b[1;32mmtrand.pyx\u001b[0m in \u001b[0;36mmtrand.RandomState.randn (numpy/random/mtrand/mtrand.c:17781)\u001b[1;34m()\u001b[0m\n",
      "\u001b[1;32mmtrand.pyx\u001b[0m in \u001b[0;36mmtrand.RandomState.standard_normal (numpy/random/mtrand/mtrand.c:18260)\u001b[1;34m()\u001b[0m\n",
      "\u001b[1;32mmtrand.pyx\u001b[0m in \u001b[0;36mmtrand.cont0_array (numpy/random/mtrand/mtrand.c:2055)\u001b[1;34m()\u001b[0m\n",
      "\u001b[1;31mTypeError\u001b[0m: an integer is required"
     ]
    }
   ],
   "source": [
    "G = np.random.randn((10,10))"
   ]
  },
  {
   "cell_type": "code",
   "execution_count": 14,
   "metadata": {
    "collapsed": true
   },
   "outputs": [],
   "source": [
    "#Gausian distribution\n",
    "G = np.random.randn(10,10)"
   ]
  },
  {
   "cell_type": "code",
   "execution_count": 15,
   "metadata": {
    "collapsed": false
   },
   "outputs": [
    {
     "data": {
      "text/plain": [
       "array([[ 2.60368556, -0.37588739, -1.9557184 , -1.8425117 , -0.28349938,\n",
       "        -0.73734894, -1.06414446, -1.1918787 , -0.25162134, -0.88610695],\n",
       "       [-1.61341732, -0.37372348, -1.32739044, -0.58839273,  0.03819638,\n",
       "        -1.52158441,  1.11646128,  1.4828447 , -0.54393983, -0.39827772],\n",
       "       [ 0.10253334, -0.03714103, -0.596945  , -1.06354716,  1.88755144,\n",
       "         1.1978568 ,  0.89202838,  0.12734999, -0.1449493 ,  0.89128091],\n",
       "       [-1.2010137 ,  0.40190629,  0.24480468, -2.09272539,  0.54248592,\n",
       "        -0.75677182, -0.71069234,  0.22302955,  1.59223415,  0.53671483],\n",
       "       [ 1.3226341 ,  0.64990273, -1.4100892 ,  2.27363362, -2.77093381,\n",
       "         0.31340601,  0.10745151,  1.6962594 ,  0.0926125 ,  1.22847823],\n",
       "       [ 0.27796809,  0.24457355, -1.58460755, -1.15985328,  1.27656554,\n",
       "        -1.47744195,  0.94746046, -2.24993322,  0.42840261, -0.16720806],\n",
       "       [ 1.53415471,  0.95784835, -0.94345936,  0.49233674,  0.36616988,\n",
       "         2.08572572, -0.62185423, -0.59380769,  0.45876913, -0.57694386],\n",
       "       [ 2.3242324 ,  0.12196477,  0.57771344,  1.17717784, -1.30981968,\n",
       "         0.12372856, -0.34976733, -1.35814752, -0.55958152,  0.85690373],\n",
       "       [ 0.79176046,  0.13660081,  0.13963001, -0.04210379,  0.43501831,\n",
       "         0.2714234 ,  0.07689912,  0.18501109,  0.66896247, -0.30068215],\n",
       "       [ 1.0627349 ,  1.87813061, -0.40915897,  0.24106733, -0.02386281,\n",
       "        -0.6010225 , -0.91403575, -0.06531086,  1.02350731, -0.79708141]])"
      ]
     },
     "execution_count": 15,
     "metadata": {},
     "output_type": "execute_result"
    }
   ],
   "source": [
    "G"
   ]
  },
  {
   "cell_type": "code",
   "execution_count": 16,
   "metadata": {
    "collapsed": false
   },
   "outputs": [
    {
     "data": {
      "text/plain": [
       "0.0088184819863233507"
      ]
     },
     "execution_count": 16,
     "metadata": {},
     "output_type": "execute_result"
    }
   ],
   "source": [
    "G.mean()"
   ]
  },
  {
   "cell_type": "code",
   "execution_count": 17,
   "metadata": {
    "collapsed": false
   },
   "outputs": [
    {
     "data": {
      "text/plain": [
       "1.1445455882595355"
      ]
     },
     "execution_count": 17,
     "metadata": {},
     "output_type": "execute_result"
    }
   ],
   "source": [
    "G.var()"
   ]
  },
  {
   "cell_type": "code",
   "execution_count": null,
   "metadata": {
    "collapsed": true
   },
   "outputs": [],
   "source": []
  }
 ],
 "metadata": {
  "kernelspec": {
   "display_name": "Python [Root]",
   "language": "python",
   "name": "Python [Root]"
  },
  "language_info": {
   "codemirror_mode": {
    "name": "ipython",
    "version": 2
   },
   "file_extension": ".py",
   "mimetype": "text/x-python",
   "name": "python",
   "nbconvert_exporter": "python",
   "pygments_lexer": "ipython2",
   "version": "2.7.12"
  }
 },
 "nbformat": 4,
 "nbformat_minor": 0
}
